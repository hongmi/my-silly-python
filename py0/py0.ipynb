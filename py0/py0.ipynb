{
 "cells": [
  {
   "cell_type": "markdown",
   "metadata": {},
   "source": [
    "## My Silly Python - 0th"
   ]
  },
  {
   "cell_type": "markdown",
   "metadata": {},
   "source": [
    "# python简单简介\n",
    "Python 是由 Guido van Rossum 在八十年代末和九十年代初，在荷兰国家数学和计算机科学研究所设计出来的。\n",
    "\n",
    "python是一门很流行的解释型编程语言。\n",
    "\n",
    "python支持交互式执行。\n",
    "\n",
    "python支持面向对象编程。\n",
    "\n",
    "python对初学者十分友好。"
   ]
  },
  {
   "cell_type": "markdown",
   "metadata": {},
   "source": [
    "# 'Hello World!' in python"
   ]
  },
  {
   "cell_type": "code",
   "execution_count": 1,
   "metadata": {
    "collapsed": true,
    "scrolled": false
   },
   "outputs": [],
   "source": [
    "# hello-world.py\n",
    "print('Hello world!')"
   ]
  },
  {
   "cell_type": "markdown",
   "metadata": {},
   "source": [
    "就这么简单！\n",
    "1. #号表示注释，在它后面的字符串都会被解释器忽略掉\n",
    "2. 和很多其他语言不同，python代码并不要求有一个main函数，作为程序执行的入口。\n",
    "3. 那么解释器如何执行hello-world.py呢？很简单，从第一行开始，一行一行的读取并进行解释\n",
    "4. 首先读取第一行，发现是注释，直接忽略。\n",
    "5. 然后读取第二行，发现了print这个内置函数，后面跟着圆括号，于是就执行print函数。print函数的作用就是简单的将括号中的内容打印出来。"
   ]
  },
  {
   "cell_type": "markdown",
   "metadata": {
    "collapsed": true
   },
   "source": [
    "# python 开发环境\n",
    "1. notepad(记事本)\n",
    "2. sublime txt, notepad++, ue, vim, emacs, ..\n",
    "2. idle\n",
    "3. pycharm\n",
    "4. jupyter notebook\n",
    "5. annaconda"
   ]
  },
  {
   "cell_type": "markdown",
   "metadata": {},
   "source": [
    "# 另外一些示例"
   ]
  },
  {
   "cell_type": "code",
   "execution_count": 2,
   "metadata": {},
   "outputs": [],
   "source": [
    "# fact.py\n",
    "# 实现阶乘，计算10! = 10*9*8*7*6*5*4*3*2*1\n",
    "\n",
    "# 定义计算阶乘的函数\n",
    "def fact(n):\n",
    "    if n > 1:\n",
    "        return n * fact(n - 1)\n",
    "    return 1\n",
    "\n",
    "# 计算10！\n",
    "f10 = fact(10)\n",
    "print(f10)"
   ]
  },
  {
   "cell_type": "markdown",
   "metadata": {},
   "source": [
    "python的一大特色就是代码强制缩进，否则解释器会报错误。\n",
    "\n",
    "代码缩进一般使用TAB或者空格，但是一个源码文件内不能混合使用TAB和空格，解释器也会报错。"
   ]
  },
  {
   "cell_type": "code",
   "execution_count": 4,
   "metadata": {},
   "outputs": [],
   "source": [
    "# fib.py\n",
    "# 斐波那契数列 1 1 2 3 5 8 13 21 34 ...\n",
    "def fib(n):\n",
    "    if n > 2:\n",
    "        return fib(n - 1) + fib(n - 2)\n",
    "    return 1\n",
    "\n",
    "# 打印fib(1) ... fib(9)\n",
    "print([fib(i) for i in range(1,10)])  # 列表推导"
   ]
  },
  {
   "cell_type": "markdown",
   "metadata": {},
   "source": [
    "# python生态\n",
    "0. 脚本：文本处理，胶水语言，系统管理\n",
    "1. web应用：diango, webpy, ..\n",
    "2. 科学计算：scipy, numpy\n",
    "3. 机器学习：scikit-learn\n",
    "4. 人工智能：tensorflow\n",
    "5. 教学：coursera上很多python课程\n",
    "..."
   ]
  },
  {
   "cell_type": "markdown",
   "metadata": {},
   "source": [
    "# 小练习\n",
    "1. 下载安装annaconda，地址 https://www.anaconda.com/download/\n",
    "2. 启动Jupyter Notebook，在自动打开的网页中找到py0.ipynb，点击即可进入本页。\n",
    "3. 执行本页中的示例代码和以下几个cell中的代码\n",
    "4. 在终端中，进入my-silly-python/py0/目录，然后输入python hello-world.py来执行hello-world示例"
   ]
  },
  {
   "cell_type": "code",
   "execution_count": 7,
   "metadata": {},
   "outputs": [],
   "source": [
    "# ex1 for循环\n",
    "for i in range(10):\n",
    "    print(i**i)"
   ]
  },
  {
   "cell_type": "code",
   "execution_count": 11,
   "metadata": {},
   "outputs": [],
   "source": [
    "# ex2 读取文件内容\n",
    "with open('hello-world.py', 'r') as f:\n",
    "    for line in f:\n",
    "        print(line, end='')"
   ]
  },
  {
   "cell_type": "code",
   "execution_count": 20,
   "metadata": {},
   "outputs": [],
   "source": [
    "# ex3 python 模块module\n",
    "import math\n",
    "print(math.pi)\n",
    "print(math.e)\n",
    "print(math.log(math.e))"
   ]
  },
  {
   "cell_type": "markdown",
   "metadata": {},
   "source": [
    "一些参考材料\n",
    "1. 官方网站            python.org\n",
    "2. 官方入门指南e文      https://wiki.python.org/moin/BeginnersGuide\n",
    "3. a byte of python   http://www.kuqin.com/abyteofpython_cn/\n",
    "4. 玩蛇网              http://www.iplaypy.com/jichu/dir.html"
   ]
  }
 ],
 "metadata": {
  "kernelspec": {
   "display_name": "Python 3",
   "language": "python",
   "name": "python3"
  },
  "language_info": {
   "codemirror_mode": {
    "name": "ipython",
    "version": 3
   },
   "file_extension": ".py",
   "mimetype": "text/x-python",
   "name": "python",
   "nbconvert_exporter": "python",
   "pygments_lexer": "ipython3",
   "version": "3.6.0"
  }
 },
 "nbformat": 4,
 "nbformat_minor": 2
}
